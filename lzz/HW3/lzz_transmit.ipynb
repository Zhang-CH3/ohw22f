{
 "cells": [
  {
   "cell_type": "code",
   "execution_count": 1,
   "id": "de504626",
   "metadata": {},
   "outputs": [
    {
     "name": "stdout",
     "output_type": "stream",
     "text": [
      "True\n",
      "640.0\t480.0\n"
     ]
    }
   ],
   "source": [
    "import serial\n",
    "import numpy as np\n",
    "import cv2\n",
    "ser=serial.Serial(\"COM12\")\n",
    "face_cascade = cv2.CascadeClassifier('haarcascade_frontalface_default.xml')\n",
    "eye_cascade = cv2.CascadeClassifier('haarcascade_eye.xml')\n",
    "cap = cv2.VideoCapture(0)\n",
    "print(cap.isOpened())\n",
    "print(str(cap.get(3))+'\\t'+str(cap.get(4)))\n",
    "cap.set(3,640)\n",
    "cap.set(4,480)\n",
    "while(True):\n",
    "    ret, frame = cap.read()\n",
    "    frame = cv2.flip(frame,1)\n",
    "    gray = cv2.cvtColor(frame, cv2.COLOR_BGR2GRAY)\n",
    "    faces = face_cascade.detectMultiScale(gray, 1.3, 5)\n",
    "    for (x,y,w,h) in faces:\n",
    "        frame = cv2.rectangle(frame,(x,y),(x+w,y+h),(255,0,0),2)\n",
    "        roi_gray = gray[y:y+h, x:x+w]\n",
    "        roi_color = frame[y:y+h, x:x+w]\n",
    "    mid_x = x + w/2\n",
    "    mid_y = y + h/2\n",
    "    if mid_x < 250 :\n",
    "        a = \"left\"\n",
    "        ser.write(a.encode())\n",
    "        cv2.putText(frame,'LEFT',(10,240),cv2.FONT_HERSHEY_SIMPLEX,1,(255,255,255),2)\n",
    "    elif mid_x > 390 :\n",
    "        a = \"right\"\n",
    "        ser.write(a.encode())\n",
    "        cv2.putText(frame,'RIGHT',(520,240),cv2.FONT_HERSHEY_SIMPLEX,1,(255,255,255),2)\n",
    "    else :\n",
    "        if w >= 140 and h >= 140:\n",
    "            a = \"top\"\n",
    "            ser.write(a.encode())\n",
    "            cv2.putText(frame,'FORWARD',(250,50),cv2.FONT_HERSHEY_SIMPLEX,1,(255,255,255),2)\n",
    "        elif w < 140 and h <140:\n",
    "            a = \"down\"\n",
    "            ser.write(a.encode())\n",
    "            cv2.putText(frame,'BACKWARD',(250,460),cv2.FONT_HERSHEY_SIMPLEX,1,(255,255,255),2)\n",
    "        else :\n",
    "            a = \"standby\"\n",
    "            ser.write(a.encode())\n",
    "            cv2.putText(frame,'STAND BY',(250,230),cv2.FONT_HERSHEY_SIMPLEX,1,(255,255,255),2)\n",
    "    cv2.imshow('Press q to Exit',frame)\n",
    "    \n",
    "    if cv2.waitKey(300) & 0xFF == ord('q'):\n",
    "        break\n",
    "\n",
    "cap.release()\n",
    "cv2.destroyAllWindows()"
   ]
  }
 ],
 "metadata": {
  "kernelspec": {
   "display_name": "Python 3",
   "language": "python",
   "name": "python3"
  },
  "language_info": {
   "codemirror_mode": {
    "name": "ipython",
    "version": 3
   },
   "file_extension": ".py",
   "mimetype": "text/x-python",
   "name": "python",
   "nbconvert_exporter": "python",
   "pygments_lexer": "ipython3",
   "version": "3.6.13"
  }
 },
 "nbformat": 4,
 "nbformat_minor": 5
}
