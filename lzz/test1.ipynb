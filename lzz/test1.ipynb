{
 "cells": [
  {
   "cell_type": "code",
   "execution_count": 1,
   "id": "6fd64178",
   "metadata": {},
   "outputs": [],
   "source": [
    "import cv2"
   ]
  },
  {
   "cell_type": "code",
   "execution_count": 2,
   "id": "24592c29",
   "metadata": {},
   "outputs": [],
   "source": [
    "img=cv2.imread(\"cats.jpeg\")"
   ]
  },
  {
   "cell_type": "code",
   "execution_count": 3,
   "id": "1e362b0e",
   "metadata": {
    "scrolled": true
   },
   "outputs": [
    {
     "name": "stdout",
     "output_type": "stream",
     "text": [
      "(500, 400, 3)\n",
      "(150, 120, 3)\n"
     ]
    }
   ],
   "source": [
    "t=img[100:600,400:800].copy()\n",
    "print(t.shape)\n",
    "q=cv2.resize(t,(120,150))\n",
    "print(q.shape)"
   ]
  },
  {
   "cell_type": "code",
   "execution_count": 4,
   "id": "0e143395",
   "metadata": {},
   "outputs": [],
   "source": [
    "for i in range(0,3):\n",
    "    for j in range(0,3):\n",
    "        img[0+150*i:150+150*i,0+120*j:120+120*j]=q\n",
    "        cv2.rectangle(img,(0+120*j,0+150*i),(120+120*j,150+150*i),(0,255,0),3)"
   ]
  },
  {
   "cell_type": "code",
   "execution_count": 5,
   "id": "efea2f81",
   "metadata": {},
   "outputs": [],
   "source": [
    "img=cv2.resize(img,(168*5,105*5))\n",
    "cv2.imshow(\"Cats\",img)\n",
    "cv2.waitKey(0)\n",
    "cv2.destroyAllWindows()"
   ]
  }
 ],
 "metadata": {
  "kernelspec": {
   "display_name": "Python 3",
   "language": "python",
   "name": "python3"
  },
  "language_info": {
   "codemirror_mode": {
    "name": "ipython",
    "version": 3
   },
   "file_extension": ".py",
   "mimetype": "text/x-python",
   "name": "python",
   "nbconvert_exporter": "python",
   "pygments_lexer": "ipython3",
   "version": "3.6.13"
  }
 },
 "nbformat": 4,
 "nbformat_minor": 5
}
